{
  "nbformat": 4,
  "nbformat_minor": 0,
  "metadata": {
    "colab": {
      "provenance": [],
      "mount_file_id": "1UZn-8DZ4nz6bIqtKJHiduGz8EcQT663H",
      "authorship_tag": "ABX9TyP5/T2q3rYcgnyK3FV1U5AI",
      "include_colab_link": true
    },
    "kernelspec": {
      "name": "python3",
      "display_name": "Python 3"
    },
    "language_info": {
      "name": "python"
    }
  },
  "cells": [
    {
      "cell_type": "markdown",
      "metadata": {
        "id": "view-in-github",
        "colab_type": "text"
      },
      "source": [
        "<a href=\"https://colab.research.google.com/github/saadoonhammad/IEEECOINS_Data_Imputation/blob/main/IEEE_COINS_Linear_Spline_.ipynb\" target=\"_parent\"><img src=\"https://colab.research.google.com/assets/colab-badge.svg\" alt=\"Open In Colab\"/></a>"
      ]
    },
    {
      "cell_type": "code",
      "source": [
        "pip install -U kaleido"
      ],
      "metadata": {
        "id": "T6MfyglpOwTJ"
      },
      "execution_count": null,
      "outputs": []
    },
    {
      "cell_type": "code",
      "source": [
        "import os\n",
        "import pandas as pd\n",
        "import numpy as np\n",
        "from sklearn.metrics import root_mean_squared_error, mean_absolute_percentage_error, mean_absolute_error\n",
        "import plotly.graph_objects as go\n",
        "\n",
        "input_folder_path = '/path/to/your/data'\n",
        "output_folder_path = '/path/to/your/data/results'\n",
        "output_folder_csv = '/path/to/your/data/csvs'\n",
        "\n",
        "file_patterns = ['c01m045e01', 'c05m124e01', 'c05m105e08']\n",
        "gap_sizes = [150, 300, 400, 600]\n",
        "start_gap = 500\n",
        "\n",
        "os.makedirs(output_folder_path, exist_ok=True)\n",
        "\n",
        "linear_results = []\n",
        "spline_results = []\n",
        "\n",
        "for file_name in os.listdir(input_folder_path):\n",
        "    if any(pattern in file_name for pattern in file_patterns) and file_name.endswith('.csv'):\n",
        "        file_path = os.path.join(input_folder_path, file_name)\n",
        "\n",
        "        if '_2022' in file_name:\n",
        "            year = '2022'\n",
        "        elif '_2023' in file_name:\n",
        "            year = '2023'\n",
        "        else:\n",
        "            year = '2021'\n",
        "\n",
        "        data = pd.read_csv(file_path)\n",
        "        data['timestamp'] = pd.to_datetime(data['timestamp'])\n",
        "        data = data[['timestamp', 'temp_value_imp']]\n",
        "        data['timestamp'] = data['timestamp'].apply(lambda x: x.replace(year=int(year)))\n",
        "\n",
        "\n",
        "        test_df_original = data[(data['timestamp'] >= f'{year}-09-01') & (data['timestamp'] <= f'{year}-09-30')].reset_index(drop=True)\n",
        "\n",
        "        for gap_size in gap_sizes:\n",
        "            test_df = test_df_original.copy()\n",
        "            test_df.iloc[start_gap:start_gap + gap_size, test_df.columns.get_loc('temp_value_imp')] = np.nan\n",
        "\n",
        "            test_interp_linear = test_df.copy()\n",
        "            test_interp_spline = test_df.copy()\n",
        "\n",
        "\n",
        "            test_interp_linear['temp_value_imp'] = test_interp_linear['temp_value_imp'].interpolate(method='linear')\n",
        "            test_interp_spline['temp_value_imp'] = test_interp_spline['temp_value_imp'].interpolate(method='spline', order=3)\n",
        "\n",
        "            for method_name, df_interp in zip(['Linear', 'Spline'], [test_interp_linear, test_interp_spline]):\n",
        "                imputed_values = df_interp.loc[start_gap:start_gap + gap_size - 1, 'temp_value_imp']\n",
        "                original_values = test_df_original.loc[start_gap:start_gap + gap_size - 1, 'temp_value_imp']\n",
        "                missing_data = test_df.iloc[start_gap:start_gap + gap_size]\n",
        "\n",
        "\n",
        "                rmse = root_mean_squared_error(original_values, imputed_values)\n",
        "                mape = mean_absolute_percentage_error(original_values, imputed_values)\n",
        "                mae = mean_absolute_error(original_values, imputed_values)\n",
        "\n",
        "                # Save imputed vs original values for future plotting\n",
        "                result_df = pd.DataFrame({\n",
        "                    'timestamp': missing_data['timestamp'].values,\n",
        "                    'original_value': original_values.values,\n",
        "                    'imputed_value': imputed_values.values\n",
        "                })\n",
        "\n",
        "                result_filename = f\"{file_name.split('.')[0]}_gap{gap_size}_{method_name.lower()}_imputed.csv\"\n",
        "                result_path = os.path.join(output_folder_csv, result_filename)\n",
        "                result_df.to_csv(result_path, index=False)\n",
        "\n",
        "                row = {\n",
        "                    'Method': method_name,\n",
        "                    'File Name': file_name,\n",
        "                    'Gap Size': gap_size,\n",
        "                    'RMSE': rmse,\n",
        "                    'MAPE': mape,\n",
        "                    'MAE': mae\n",
        "                }\n",
        "                if method_name == 'Linear':\n",
        "                    linear_results.append(row)\n",
        "                else:\n",
        "                    spline_results.append(row)\n",
        "\n",
        "                fig = go.Figure()\n",
        "                fig.add_trace(go.Scatter(\n",
        "                    x=test_df_original['timestamp'],\n",
        "                    y=test_df_original['temp_value_imp'],\n",
        "                    mode='lines',\n",
        "                    name='Original (Ground Truth)',\n",
        "                    line=dict(color='blue')\n",
        "                ))\n",
        "                fig.add_trace(go.Scatter(\n",
        "                    x=missing_data['timestamp'],\n",
        "                    y=imputed_values.values,\n",
        "                    mode='lines',\n",
        "                    name='Imputed Region',\n",
        "                    line=dict(color='red', width=2)\n",
        "                ))\n",
        "\n",
        "                fig.add_vrect(\n",
        "                    x0=missing_data['timestamp'].iloc[0],\n",
        "                    x1=missing_data['timestamp'].iloc[-1],\n",
        "                    fillcolor=\"gray\",\n",
        "                    opacity=0.2,\n",
        "                    line_width=0,\n",
        "                    annotation_text=\"Missing Block\",\n",
        "                    annotation_position=\"top left\"\n",
        "                )\n",
        "                fig.update_layout(\n",
        "                    title=f'{method_name} Interpolation | {file_name} | Gap Size: {gap_size} values',\n",
        "                    width=1000,\n",
        "                    height=800,\n",
        "                    xaxis_title=\"Timestamp\",\n",
        "                    yaxis_title=\"Temperature\",\n",
        "                    legend=dict(yanchor=\"top\", y=0.99, xanchor=\"right\", x=0.99)\n",
        "                )\n",
        "                plot_file_name = f\"{file_name.split('.')[0]}_gap{gap_size}_{method_name.lower()}.png\"\n",
        "                fig.write_image(os.path.join(output_folder_path, plot_file_name), scale=2)\n",
        "\n",
        "linear_df = pd.DataFrame(linear_results)\n",
        "spline_df = pd.DataFrame(spline_results)\n",
        "\n",
        "linear_csv_path = os.path.join(output_folder_path, 'linear_interpolation_results.csv')\n",
        "spline_csv_path = os.path.join(output_folder_path, 'spline_interpolation_results.csv')\n",
        "\n",
        "linear_df.to_csv(linear_csv_path, index=False)\n",
        "spline_df.to_csv(spline_csv_path, index=False)\n",
        "\n",
        "print(\"\\n Linear & Spline interpolation complete. CSVs and plots saved.\")"
      ],
      "metadata": {
        "colab": {
          "base_uri": "https://localhost:8080/"
        },
        "id": "y8owyMNSR00_",
        "outputId": "d134d55b-d7ce-456b-a180-ad0e5b542a5f"
      },
      "execution_count": null,
      "outputs": [
        {
          "output_type": "stream",
          "name": "stdout",
          "text": [
            "\n",
            "✅ Linear & Spline interpolation complete. CSVs and plots saved.\n"
          ]
        }
      ]
    }
  ]
}